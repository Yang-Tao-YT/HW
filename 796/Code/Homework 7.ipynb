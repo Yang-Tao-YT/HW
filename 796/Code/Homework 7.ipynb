{
 "cells": [
  {
   "cell_type": "code",
   "execution_count": 66,
   "metadata": {},
   "outputs": [],
   "source": [
    "import pandas as pd\n",
    "import numpy as np\n",
    "from scipy.stats import norm\n",
    "import matplotlib.pyplot as plt\n",
    "import cmath\n",
    "from time import time\n",
    "from scipy import interpolate\n",
    "import  scipy.stats as  sc\n",
    "\n",
    "class Hw3_FFT:\n",
    "    def __init__(self, sigma, v0, kappa, p,q, theta, s0, r, k,T):\n",
    "        self.sigma = sigma\n",
    "        self.v0 = v0\n",
    "        self.kappa = kappa\n",
    "        self.p = p\n",
    "        self.theta = theta\n",
    "        self.s0 = s0\n",
    "        self.r =r\n",
    "        self.k = k\n",
    "        self.T = T\n",
    "        self.q = q\n",
    "        \n",
    "    def  Heston_Model_CF (self, u):\n",
    "        '''charactristic function of density'''\n",
    "        theta = self.theta\n",
    "        kappa = self.kappa\n",
    "        p = self.p\n",
    "        sigma =self.sigma\n",
    "        t = self.T\n",
    "        s0 = self.s0\n",
    "        r = self.r\n",
    "        q = self.q\n",
    "        i = complex(0,1)\n",
    "        # lambda\n",
    "        Lambda = np.sqrt(sigma**2 * (u**2 + i * u) + (kappa - i * p * sigma * u)**2)\n",
    "        # w\n",
    "        wu = np.exp(i * u * np.log(s0) + i * u * (r - q) * t  + \\\n",
    "            (kappa * theta * t * (kappa - i * p * sigma * u)) / sigma**2)\n",
    "\n",
    "        wd = (cmath.cosh(Lambda * t / 2) + (kappa - i * p * sigma * u)/\n",
    "                   Lambda * cmath.sinh(Lambda * t / 2))**(2 * kappa * theta / sigma**2)\n",
    "        w = wu/wd\n",
    "        # cf\n",
    "        cf = w * np.exp( -(u**2 + i * u) * self.v0/\n",
    "                (Lambda / cmath.tanh(Lambda * t / 2) + kappa - i * p * sigma * u))\n",
    "        return cf\n",
    "    \n",
    "    def indicator (self,n):\n",
    "        '''indicator factor'''\n",
    "        y = np.zeros(len(n),dtype = complex)\n",
    "        y[n==0] = 1\n",
    "        return y\n",
    "    \n",
    "    def Heston_Model_FFT(self, alpha,n,B,K):\n",
    "        '''calculate the price via FFT'''\n",
    "\n",
    "                # set the parameter\n",
    "        a = alpha\n",
    "        theta = self.theta\n",
    "        kappa = self.kappa\n",
    "        p = self.p\n",
    "        sigma =self.sigma\n",
    "        t = self.T\n",
    "        s0 = self.s0\n",
    "        r = self.r\n",
    "        N = 2**n\n",
    "        dv = B / N\n",
    "        dvdk = 2 * np.pi / N\n",
    "        dk = dvdk / dv\n",
    "        j = np.arange(1,N+1,dtype = complex)\n",
    "        vj = (j - 1) * dv\n",
    "        m = np.arange(1,N+1,dtype = complex)\n",
    "        beta = np.log(s0) - dk * N / 2\n",
    "        km = beta + (m-1) *dk\n",
    "        i = complex(0,1)\n",
    "        vj_ = []\n",
    "        \n",
    "        \n",
    "#       set x and calculate y\n",
    "        for count in range(0,N):\n",
    "            u = vj[count] - (a + 1) * i\n",
    "            cf = self.Heston_Model_CF(u)\n",
    "            res =cf / ( 2 * (a +  vj[count] * i ) * (a + vj[count] * i + 1)) \n",
    "            vj_.append(res)\n",
    "        vj_ = np.array(vj_)\n",
    "        x = dv *vj_  * np.exp(- i * vj * beta) * (2 - self.indicator(j-1)) \n",
    "        y = np.fft.fft(x)\n",
    "        \n",
    "        \n",
    "        # vector \n",
    "        yreal = np.exp(-alpha * np.array(km)) / np.pi * np.array(y).real\n",
    "        \n",
    "        # k_list\n",
    "        k_List = list(beta + (np.cumsum(np.ones((N, 1))) - 1) * dk)\n",
    "        kt = np.exp(np.array(k_List))\n",
    "        k = []\n",
    "        yreal_check = []\n",
    "        #make sure the data is valid\n",
    "        for i in range(len(kt)):\n",
    "            if( kt[i]>1e-16 )&(kt[i] < 1e16)& ( kt[i] != float(\"inf\"))&( kt[i] != float(\"-inf\")) &( yreal[i] != float(\"inf\"))&(yreal[i] != float(\"-inf\")) & (yreal[i] is not  float(\"nan\")):\n",
    "                k.append(kt[i])\n",
    "                yreal_check.append(yreal[i])\n",
    "        tck = interpolate.splrep(k , np.real(yreal_check))\n",
    "        price =  np.exp(-r * t)*interpolate.splev(K, tck).real\n",
    "\n",
    "        return price\n",
    "\n",
    "class mc_henson:\n",
    "    def __init__(self,sigma,v0,kappa,p,theta,r,q,T,s0,k,k2):\n",
    "        self.sigma = sigma\n",
    "        self.v0 = v0\n",
    "        self.kappa = kappa\n",
    "        self.p = p\n",
    "        self.r = r\n",
    "        self.q = q\n",
    "        self.T =T\n",
    "        self.s0 = s0\n",
    "        self.k = k\n",
    "        self.k2 = k2\n",
    "    def mcsimulation_Euler_discretization(self,trails):\n",
    "        sigma,v0,kappa,p,r,q,T,s0,k,k2 = self.sigma,self.v0,self.kappa,self.p,self.r,self.q,self.T,self.s0,self.k,self.k2\n",
    "        \n",
    "        dt = T/period\n",
    "\n",
    "        cov_matrix = dt*np.matrix([[1,p],[p,1]])\n",
    "\n",
    "        s = np.zeros([trails,period])\n",
    "        v = np.zeros([trails,period])\n",
    "\n",
    "        s[:,0] = s0\n",
    "        v[:,0] = v0\n",
    "        for i in range(1,period):\n",
    "    #         random = np.random.multivariate_normal(mean=[0,0],cov=cov_matrix,size=trails)\n",
    "    #         s[:,i] = s[:,i-1] + (r-q) * s[:, i-1] * dt + np.sqrt( np.maximum ( v[:,i-1] , 0)) * s[:,i-1] * random[: , 0]\n",
    "    #         v[:,i] = np.maximum(v[:, i-1] + k * (theta - v[:,i-1]) * dt +   sigma * np.sqrt(v[:,i-1]  ) * random[:,1],0)\n",
    "            z = np.random.multivariate_normal(mean=[0,0],cov=cov_matrix,size = trails)\n",
    "            s[:,i] = s[:,i-1] + (r-q) * s[:,i-1] * dt + np.array(np.sqrt(np.maximum(v[:,i-1],0)))*(np.array(s[:,i-1])) * z[:,0]\n",
    "            v[:,i] = v[:,i-1] + kappa * (theta - v[:,i-1]) * dt + sigma * np.sqrt(np.maximum(v[:,i-1],0))*z[:,1]\n",
    "\n",
    "        payoff = np.exp(-r*T)*sum(np.maximum(s[:,period-1] - k,0))/trails\n",
    "        return s , payoff\n",
    "    \n",
    "    def u_o (self,N):\n",
    "        \n",
    "        path,nan = self.mcsimulation_Euler_discretization(N)\n",
    "        payoff = np.maximum(path[:,-1]-k,0)\n",
    "        payoff[path.max(axis=1)>k2] = 0\n",
    "        price = np.exp(-r*T)*np.mean(payoff)\n",
    "        return price\n",
    "    def control(self,N,price):\n",
    "        k,k2 = self.k, self.k2        \n",
    "        c = self.optimal()[0]\n",
    "        path = self.mcsimulation_Euler_discretization(N)[0]\n",
    "        payoff = np.maximum(path[:,-1]-k,0)\n",
    "        payoff[path.max(axis=1)>k2] = 0\n",
    "        out_put = np.exp(-r*T)*np.mean(payoff)\n",
    "\n",
    "        euro = np.mean(np.maximum(path[:,-1] - k,0))\n",
    "        out_put_hat = out_put + (euro - price)*c\n",
    "        return np.mean(out_put_hat)\n",
    "\n",
    "    def optimal(self):\n",
    "        sigma,v0,kappa,p,r,q,T,s0,k,k2 = self.sigma,self.v0,self.kappa,self.p,self.r,self.q,self.T,self.s0,self.k,self.k2\n",
    "        N = 500\n",
    "        out_put = np.zeros(N)\n",
    "        euro = np.zeros(N)\n",
    "        for i in range(N):\n",
    "            df = self.mcsimulation_Euler_discretization(500)[0]\n",
    "            euro[i] = np.mean(np.maximum(df[:,-1] - k,0))\n",
    "            payoff = np.maximum(df[:,-1]-k,0)\n",
    "            payoff[df.max(axis=1)>k2] = 0\n",
    "            out_put[i] = np.exp(-r*T)*np.mean(payoff)\n",
    "        c = -np.cov(out_put,euro)[0][1]/np.var(euro)\n",
    "        return c , np.cov(out_put, euro)"
   ]
  },
  {
   "cell_type": "code",
   "execution_count": 14,
   "metadata": {},
   "outputs": [],
   "source": [
    "r = 0.015\n",
    "q = 0.0177\n",
    "s0 = 282\n",
    "T = 1\n",
    "k = 285\n",
    "n = 15\n",
    "B = 1000\n",
    "kappa, theta, sigma, p, v0 = (3.51,0.052,1.17,-0.77,0.034) \n",
    "alpha = 1"
   ]
  },
  {
   "cell_type": "markdown",
   "metadata": {},
   "source": [
    "### 1\n",
    "I use the parameter from homework 3 since it was tested by the professor with least squred error and stable outcomes.<br/>\n",
    "Those, my parameter will be $3.51,0.052,1.17,-0.77,0.034$\n",
    "\n",
    "### 2\n",
    "I use business daily steps with $\\frac{1}{252}$ and simulation with $40000$ times"
   ]
  },
  {
   "cell_type": "markdown",
   "metadata": {},
   "source": [
    "## 3"
   ]
  },
  {
   "cell_type": "markdown",
   "metadata": {},
   "source": [
    "### FFT"
   ]
  },
  {
   "cell_type": "code",
   "execution_count": 15,
   "metadata": {},
   "outputs": [],
   "source": [
    "fft = Hw3_FFT(sigma, v0,kappa, p,q, theta, s0, r, k,T)"
   ]
  },
  {
   "cell_type": "code",
   "execution_count": 16,
   "metadata": {
    "scrolled": true
   },
   "outputs": [],
   "source": [
    "price_fft = fft.Heston_Model_FFT(alpha,n,B,k)"
   ]
  },
  {
   "cell_type": "code",
   "execution_count": 72,
   "metadata": {},
   "outputs": [
    {
     "data": {
      "text/plain": [
       "17.528879915598804"
      ]
     },
     "execution_count": 72,
     "metadata": {},
     "output_type": "execute_result"
    }
   ],
   "source": [
    "price_fft"
   ]
  },
  {
   "cell_type": "markdown",
   "metadata": {},
   "source": [
    "### simulation"
   ]
  },
  {
   "cell_type": "code",
   "execution_count": 67,
   "metadata": {
    "scrolled": false
   },
   "outputs": [
    {
     "name": "stdout",
     "output_type": "stream",
     "text": [
      "17.60648564346626\n",
      "difference -0.07760572786745712\n"
     ]
    }
   ],
   "source": [
    "period = 252\n",
    "N = 40000\n",
    "k2 = 315\n",
    "mc = mc_henson(sigma,v0,kappa,p,theta,r,q,T,s0,k,k2)\n",
    "path, price_sim = mc.mcsimulation_Euler_discretization(N)\n",
    "print(price_sim)\n",
    "print('difference' , price_fft - price_sim)"
   ]
  },
  {
   "cell_type": "markdown",
   "metadata": {},
   "source": [
    "the difference is $0.005$ <br/>\n",
    "Small enough to be ignored\n"
   ]
  },
  {
   "cell_type": "markdown",
   "metadata": {},
   "source": [
    "## 4 up and out"
   ]
  },
  {
   "cell_type": "code",
   "execution_count": 21,
   "metadata": {},
   "outputs": [
    {
     "data": {
      "text/plain": [
       "2.865287817303246"
      ]
     },
     "execution_count": 21,
     "metadata": {},
     "output_type": "execute_result"
    }
   ],
   "source": [
    "true  = mc.u_o(N);true"
   ]
  },
  {
   "cell_type": "markdown",
   "metadata": {},
   "source": [
    "##### Use $N = 100000 $ as true price,which is 2.8888, i try different n and compare with true price to see the converge rate"
   ]
  },
  {
   "cell_type": "code",
   "execution_count": 49,
   "metadata": {},
   "outputs": [
    {
     "name": "stdout",
     "output_type": "stream",
     "text": [
      "[0.1196 0.046  0.0461 0.0317 0.0087]\n"
     ]
    },
    {
     "data": {
      "text/html": [
       "<div>\n",
       "<style scoped>\n",
       "    .dataframe tbody tr th:only-of-type {\n",
       "        vertical-align: middle;\n",
       "    }\n",
       "\n",
       "    .dataframe tbody tr th {\n",
       "        vertical-align: top;\n",
       "    }\n",
       "\n",
       "    .dataframe thead th {\n",
       "        text-align: right;\n",
       "    }\n",
       "</style>\n",
       "<table border=\"1\" class=\"dataframe\">\n",
       "  <thead>\n",
       "    <tr style=\"text-align: right;\">\n",
       "      <th></th>\n",
       "      <th>error</th>\n",
       "    </tr>\n",
       "  </thead>\n",
       "  <tbody>\n",
       "    <tr>\n",
       "      <td>1000</td>\n",
       "      <td>0.119577</td>\n",
       "    </tr>\n",
       "    <tr>\n",
       "      <td>2500</td>\n",
       "      <td>0.046010</td>\n",
       "    </tr>\n",
       "    <tr>\n",
       "      <td>5000</td>\n",
       "      <td>0.046088</td>\n",
       "    </tr>\n",
       "    <tr>\n",
       "      <td>10000</td>\n",
       "      <td>0.031688</td>\n",
       "    </tr>\n",
       "    <tr>\n",
       "      <td>20000</td>\n",
       "      <td>0.008675</td>\n",
       "    </tr>\n",
       "  </tbody>\n",
       "</table>\n",
       "</div>"
      ],
      "text/plain": [
       "          error\n",
       "1000   0.119577\n",
       "2500   0.046010\n",
       "5000   0.046088\n",
       "10000  0.031688\n",
       "20000  0.008675"
      ]
     },
     "execution_count": 49,
     "metadata": {},
     "output_type": "execute_result"
    },
    {
     "data": {
      "image/png": "[encoded data removed]",
      "text/plain": [
       "<Figure size 432x288 with 1 Axes>"
      ]
     },
     "metadata": {
      "needs_background": "light"
     },
     "output_type": "display_data"
    }
   ],
   "source": [
    "N =  [1000,2500,5000,10000,20000]\n",
    "converge = [abs(mc.u_o(n) - true)/true for n in N]\n",
    "print(np.array(converge).round(4))\n",
    "converge = pd.DataFrame({'error': converge}, index=N)\n",
    "\n",
    "converge.plot();converge"
   ]
  },
  {
   "cell_type": "markdown",
   "metadata": {},
   "source": [
    "### 5"
   ]
  },
  {
   "cell_type": "code",
   "execution_count": 74,
   "metadata": {},
   "outputs": [],
   "source": [
    "N =  [1000,2500,5000,10000,20000]\n",
    "conv = [mc.control(n,price) for n in N]"
   ]
  },
  {
   "cell_type": "code",
   "execution_count": 78,
   "metadata": {},
   "outputs": [
    {
     "data": {
      "text/html": [
       "<div>\n",
       "<style scoped>\n",
       "    .dataframe tbody tr th:only-of-type {\n",
       "        vertical-align: middle;\n",
       "    }\n",
       "\n",
       "    .dataframe tbody tr th {\n",
       "        vertical-align: top;\n",
       "    }\n",
       "\n",
       "    .dataframe thead th {\n",
       "        text-align: right;\n",
       "    }\n",
       "</style>\n",
       "<table border=\"1\" class=\"dataframe\">\n",
       "  <thead>\n",
       "    <tr style=\"text-align: right;\">\n",
       "      <th></th>\n",
       "      <th>converge</th>\n",
       "    </tr>\n",
       "  </thead>\n",
       "  <tbody>\n",
       "    <tr>\n",
       "      <td>1000</td>\n",
       "      <td>-0.018825</td>\n",
       "    </tr>\n",
       "    <tr>\n",
       "      <td>2500</td>\n",
       "      <td>0.038030</td>\n",
       "    </tr>\n",
       "    <tr>\n",
       "      <td>5000</td>\n",
       "      <td>0.034828</td>\n",
       "    </tr>\n",
       "    <tr>\n",
       "      <td>10000</td>\n",
       "      <td>0.030581</td>\n",
       "    </tr>\n",
       "    <tr>\n",
       "      <td>20000</td>\n",
       "      <td>0.000269</td>\n",
       "    </tr>\n",
       "  </tbody>\n",
       "</table>\n",
       "</div>"
      ],
      "text/plain": [
       "       converge\n",
       "1000  -0.018825\n",
       "2500   0.038030\n",
       "5000   0.034828\n",
       "10000  0.030581\n",
       "20000  0.000269"
      ]
     },
     "execution_count": 78,
     "metadata": {},
     "output_type": "execute_result"
    },
    {
     "data": {
      "image/png": "[encoded data removed]",
      "text/plain": [
       "<Figure size 432x288 with 1 Axes>"
      ]
     },
     "metadata": {
      "needs_background": "light"
     },
     "output_type": "display_data"
    }
   ],
   "source": [
    "\n",
    "temp = (conv - true)/true \n",
    "converge = pd.DataFrame({'converge': temp}, index = N)\n",
    "converge.plot();converge"
   ]
  },
  {
   "cell_type": "code",
   "execution_count": 68,
   "metadata": {},
   "outputs": [
    {
     "data": {
      "text/plain": [
       "(-0.001448748918327704, array([[0.08554849, 0.00138316],\n",
       "        [0.00138316, 0.95664328]]))"
      ]
     },
     "execution_count": 68,
     "metadata": {},
     "output_type": "execute_result"
    }
   ],
   "source": [
    "mc.optimal()"
   ]
  },
  {
   "cell_type": "code",
   "execution_count": null,
   "metadata": {},
   "outputs": [],
   "source": []
  }
 ],
 "metadata": {
  "kernelspec": {
   "display_name": "Python 3",
   "language": "python",
   "name": "python3"
  },
  "language_info": {
   "codemirror_mode": {
    "name": "ipython",
    "version": 3
   },
   "file_extension": ".py",
   "mimetype": "text/x-python",
   "name": "python",
   "nbconvert_exporter": "python",
   "pygments_lexer": "ipython3",
   "version": "3.7.4"
  },
  "varInspector": {
   "cols": {
    "lenName": 16,
    "lenType": 16,
    "lenVar": 40
   },
   "kernels_config": {
    "python": {
     "delete_cmd_postfix": "",
     "delete_cmd_prefix": "del ",
     "library": "var_list.py",
     "varRefreshCmd": "print(var_dic_list())"
    },
    "r": {
     "delete_cmd_postfix": ") ",
     "delete_cmd_prefix": "rm(",
     "library": "var_list.r",
     "varRefreshCmd": "cat(var_dic_list()) "
    }
   },
   "types_to_exclude": [
    "module",
    "function",
    "builtin_function_or_method",
    "instance",
    "_Feature"
   ],
   "window_display": false
  }
 },
 "nbformat": 4,
 "nbformat_minor": 2
}
