{
 "cells": [
  {
   "cell_type": "code",
   "execution_count": 20,
   "metadata": {},
   "outputs": [],
   "source": [
    "import pandas as pd\n",
    "import numpy as np\n",
    "from scipy.stats import norm\n",
    "import matplotlib.pyplot as plt\n",
    "import cmath\n",
    "from scipy import interpolate\n",
    "from mpl_toolkits.mplot3d.axes3d import Axes3D\n",
    "from pylab import meshgrid\n",
    "import time\n",
    "from scipy.optimize import root\n",
    "import  scipy.stats as  sc\n",
    "\n",
    "class Hw3_FFT:\n",
    "    def __init__(self, sigma, v0, kappa, p,q, theta, s0, r, k,T):\n",
    "        self.sigma = sigma\n",
    "        self.v0 = v0\n",
    "        self.kappa = kappa\n",
    "        self.p = p\n",
    "        self.theta = theta\n",
    "        self.s0 = s0\n",
    "        self.r =r\n",
    "        self.k = k\n",
    "        self.T = T\n",
    "        self.q = q\n",
    "        \n",
    "    def  Heston_Model_CF (self, u):\n",
    "        '''charactristic function of density'''\n",
    "        theta = self.theta\n",
    "        kappa = self.kappa\n",
    "        p = self.p\n",
    "        sigma =self.sigma\n",
    "        t = self.T\n",
    "        s0 = self.s0\n",
    "        r = self.r\n",
    "        q = self.q\n",
    "        i = complex(0,1)\n",
    "        # lambda\n",
    "        Lambda = np.sqrt(sigma**2 * (u**2 + i * u) + (kappa - i * p * sigma * u)**2)\n",
    "        # w\n",
    "        wu = np.exp(i * u * np.log(s0) + i * u * (r - q) * t  + \\\n",
    "            (kappa * theta * t * (kappa - i * p * sigma * u)) / sigma**2)\n",
    "\n",
    "        wd = (cmath.cosh(Lambda * t / 2) + (kappa - i * p * sigma * u)/\n",
    "                   Lambda * cmath.sinh(Lambda * t / 2))**(2 * kappa * theta / sigma**2)\n",
    "        w = wu/wd\n",
    "        # cf\n",
    "        cf = w * np.exp( -(u**2 + i * u) * self.v0/\n",
    "                (Lambda / cmath.tanh(Lambda * t / 2) + kappa - i * p * sigma * u))\n",
    "        return cf\n",
    "    \n",
    "    def indicator (self,n):\n",
    "        '''indicator factor'''\n",
    "        y = np.zeros(len(n),dtype = complex)\n",
    "        y[n==0] = 1\n",
    "        return y\n",
    "    \n",
    "    def Heston_Model_FFT(self, alpha,n,B,K):\n",
    "        '''calculate the price via FFT'''\n",
    "\n",
    "                # set the parameter\n",
    "        a = alpha\n",
    "        theta = self.theta\n",
    "        kappa = self.kappa\n",
    "        p = self.p\n",
    "        sigma =self.sigma\n",
    "        t = self.T\n",
    "        s0 = self.s0\n",
    "        r = self.r\n",
    "        N = 2**n\n",
    "        dv = B / N\n",
    "        dvdk = 2 * np.pi / N\n",
    "        dk = dvdk / dv\n",
    "        j = np.arange(1,N+1,dtype = complex)\n",
    "        vj = (j - 1) * dv\n",
    "        m = np.arange(1,N+1,dtype = complex)\n",
    "        beta = np.log(s0) - dk * N / 2\n",
    "        km = beta + (m-1) *dk\n",
    "        i = complex(0,1)\n",
    "        vj_ = []\n",
    "        \n",
    "        \n",
    "#       set x and calculate y\n",
    "        for count in range(0,N):\n",
    "            u = vj[count] - (a + 1) * i\n",
    "            cf = self.Heston_Model_CF(u)\n",
    "            res =cf / ( 2 * (a +  vj[count] * i ) * (a + vj[count] * i + 1)) \n",
    "            vj_.append(res)\n",
    "        vj_ = np.array(vj_)\n",
    "        x = dv *vj_  * np.exp(- i * vj * beta) * (2 - self.indicator(j-1)) \n",
    "        y = np.fft.fft(x)\n",
    "        \n",
    "        \n",
    "        # vector \n",
    "        yreal = np.exp(-alpha * np.array(km)) / np.pi * np.array(y).real\n",
    "        \n",
    "        # k_list\n",
    "        k_List = list(beta + (np.cumsum(np.ones((N, 1))) - 1) * dk)\n",
    "        kt = np.exp(np.array(k_List))\n",
    "        k = []\n",
    "        yreal_check = []\n",
    "        #make sure the data is valid\n",
    "        for i in range(len(kt)):\n",
    "            if( kt[i]>1e-16 )&(kt[i] < 1e16)& ( kt[i] != float(\"inf\"))&( kt[i] != float(\"-inf\")) &( yreal[i] != float(\"inf\"))&(yreal[i] != float(\"-inf\")) & (yreal[i] is not  float(\"nan\")):\n",
    "                k.append(kt[i])\n",
    "                yreal_check.append(yreal[i])\n",
    "        tck = interpolate.splrep(k , np.real(yreal_check))\n",
    "        price =  np.exp(-r * t)*interpolate.splev(K, tck).real\n",
    "\n",
    "        return price\n",
    "\n",
    "def mcsimulation_Euler_discretization(sigma,v0,k,p,theta,r,q,T,trails,s0 = 100,K = 100,period = 64):\n",
    "    dt = T/period\n",
    "    print(p,dt)\n",
    "    cov_matrix = dt*np.matrix([[1,p],[p,1]])\n",
    "    \n",
    "    s = np.zeros([trails,period])\n",
    "    v = np.zeros([trails,period])\n",
    "    print(cov_matrix)\n",
    "    print(sigma,v0,k,p,theta,r,q,T,trails,s0 ,K,period)\n",
    "    s[:,0] = s0\n",
    "    v[:,0] = v0\n",
    "    for i in range(1,period):\n",
    "#         random = np.random.multivariate_normal(mean=[0,0],cov=cov_matrix,size=trails)\n",
    "#         s[:,i] = s[:,i-1] + (r-q) * s[:, i-1] * dt + np.sqrt( np.maximum ( v[:,i-1] , 0)) * s[:,i-1] * random[: , 0]\n",
    "#         v[:,i] = np.maximum(v[:, i-1] + k * (theta - v[:,i-1]) * dt +   sigma * np.sqrt(v[:,i-1]  ) * random[:,1],0)\n",
    "        z = np.random.multivariate_normal(mean=[0,0],cov=cov_matrix,size = trails)\n",
    "        s[:,i] = s[:,i-1] + (r-q) * s[:,i-1] * dt + np.array(np.sqrt(np.maximum(v[:,i-1],0)))*(np.array(s[:,i-1])) * z[:,0]\n",
    "        v[:,i] = v[:,i-1] + kappa * (theta - v[:,i-1]) * dt + sigma * np.sqrt(np.maximum(v[:,i-1],0))*z[:,1]\n",
    "            \n",
    "    payoff = np.exp(-r*T)*sum(np.maximum(s[:,period-1] - K,0))/trails\n",
    "    return s , payoff"
   ]
  },
  {
   "cell_type": "code",
   "execution_count": 19,
   "metadata": {
    "scrolled": true
   },
   "outputs": [
    {
     "name": "stdout",
     "output_type": "stream",
     "text": [
      "-0.77 0.003968253968253968\n",
      "[[ 0.00396825 -0.00305556]\n",
      " [-0.00305556  0.00396825]]\n",
      "1.17 0.034 3.51 -0.77 0.052 0.015 0.0177 1 2500 282 285 252\n"
     ]
    },
    {
     "data": {
      "text/plain": [
       "(array([[282.        , 275.74941402, 283.14293579, ..., 305.4002977 ,\n",
       "         305.39702555, 305.39375344],\n",
       "        [282.        , 285.1492691 , 285.9809987 , ..., 358.26914216,\n",
       "         358.26530356, 358.261465  ],\n",
       "        [282.        , 281.0149104 , 283.71638165, ..., 323.57417522,\n",
       "         323.57070835, 323.56724152],\n",
       "        ...,\n",
       "        [282.        , 285.14696423, 288.49584381, ..., 278.26989797,\n",
       "         285.08860784, 287.87683945],\n",
       "        [282.        , 281.31875093, 283.74426462, ..., 325.9874355 ,\n",
       "         326.42074171, 327.35252623],\n",
       "        [282.        , 279.0762194 , 282.24942728, ..., 324.86234444,\n",
       "         326.20487393, 327.54844264]]), 17.36911576935025)"
      ]
     },
     "execution_count": 19,
     "metadata": {},
     "output_type": "execute_result"
    }
   ],
   "source": [
    "mcsimulation_Euler_discretization(sigma,v0,kappa,p,theta,r,q,T,2500,s0,k,252)"
   ]
  },
  {
   "cell_type": "code",
   "execution_count": 21,
   "metadata": {},
   "outputs": [],
   "source": [
    "r = 0.015\n",
    "q = 0.0177\n",
    "s0 = 282\n",
    "T = 1\n",
    "k = 285\n",
    "n = 15\n",
    "B = 1000\n",
    "kappa, theta, sigma, p, v0 = (3.51,0.052,1.17,-0.77,0.034) \n",
    "alpha = 1"
   ]
  },
  {
   "cell_type": "code",
   "execution_count": 7,
   "metadata": {},
   "outputs": [],
   "source": [
    "fft = Hw3_FFT(sigma, v0,kappa, p,q, theta, s0, r, k,T)"
   ]
  },
  {
   "cell_type": "code",
   "execution_count": 13,
   "metadata": {},
   "outputs": [
    {
     "data": {
      "text/plain": [
       "17.528879915598804"
      ]
     },
     "execution_count": 13,
     "metadata": {},
     "output_type": "execute_result"
    }
   ],
   "source": [
    "fft.Heston_Model_FFT(alpha,n,B,k)"
   ]
  },
  {
   "cell_type": "code",
   "execution_count": null,
   "metadata": {},
   "outputs": [],
   "source": []
  }
 ],
 "metadata": {
  "kernelspec": {
   "display_name": "Python 3",
   "language": "python",
   "name": "python3"
  },
  "language_info": {
   "codemirror_mode": {
    "name": "ipython",
    "version": 3
   },
   "file_extension": ".py",
   "mimetype": "text/x-python",
   "name": "python",
   "nbconvert_exporter": "python",
   "pygments_lexer": "ipython3",
   "version": "3.7.4"
  },
  "varInspector": {
   "cols": {
    "lenName": 16,
    "lenType": 16,
    "lenVar": 40
   },
   "kernels_config": {
    "python": {
     "delete_cmd_postfix": "",
     "delete_cmd_prefix": "del ",
     "library": "var_list.py",
     "varRefreshCmd": "print(var_dic_list())"
    },
    "r": {
     "delete_cmd_postfix": ") ",
     "delete_cmd_prefix": "rm(",
     "library": "var_list.r",
     "varRefreshCmd": "cat(var_dic_list()) "
    }
   },
   "types_to_exclude": [
    "module",
    "function",
    "builtin_function_or_method",
    "instance",
    "_Feature"
   ],
   "window_display": false
  }
 },
 "nbformat": 4,
 "nbformat_minor": 2
}
