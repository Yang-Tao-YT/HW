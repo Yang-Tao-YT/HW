{
 "cells": [
  {
   "cell_type": "code",
   "execution_count": 5,
   "metadata": {},
   "outputs": [],
   "source": [
    "def countingValleys(n, s):\n",
    "    location = 0\n",
    "    inout = 0\n",
    "    vally = 0\n",
    "    for i in range(n):\n",
    "        if s[i] == 'U':\n",
    "            location += 1\n",
    "        elif s[i] == 'D':\n",
    "            location += -1\n",
    "            \n",
    "        if location < 0 and inout == 0:\n",
    "            inout +=  1\n",
    "        elif location >=  0 and inout == 1:\n",
    "            inout += -1\n",
    "            vally += 1\n",
    "    return vally\n",
    "\n",
    "        "
   ]
  },
  {
   "cell_type": "code",
   "execution_count": 6,
   "metadata": {},
   "outputs": [
    {
     "data": {
      "text/plain": [
       "1"
      ]
     },
     "execution_count": 6,
     "metadata": {},
     "output_type": "execute_result"
    }
   ],
   "source": [
    "countingValleys(8 , 'UDDDUDUU')"
   ]
  },
  {
   "cell_type": "code",
   "execution_count": 57,
   "metadata": {},
   "outputs": [],
   "source": [
    "def jumpingOnClouds(c):\n",
    "    location = 0\n",
    "    steps = 0\n",
    "    while location < len(c) - 1:\n",
    "        if location < len(c) - 3:\n",
    "            if c[location + 2] == 1:\n",
    "                location += 1\n",
    "                steps += 1 \n",
    "\n",
    "            elif c[location+2] == 0:\n",
    "                location += 2\n",
    "                steps += 1 \n",
    "\n",
    "        if location == len(c) - 3 :\n",
    "\n",
    "            location +=2\n",
    "            steps += 1\n",
    "        if location == len(c) - 2:\n",
    "            location +=1\n",
    "            steps += 1\n",
    "\n",
    "    return steps\n",
    "    "
   ]
  },
  {
   "cell_type": "code",
   "execution_count": 59,
   "metadata": {},
   "outputs": [
    {
     "data": {
      "text/plain": [
       "4"
      ]
     },
     "execution_count": 59,
     "metadata": {},
     "output_type": "execute_result"
    }
   ],
   "source": [
    "jumpingOnClouds([0 ,0,1,0,1, 0, 0])"
   ]
  },
  {
   "cell_type": "code",
   "execution_count": 79,
   "metadata": {},
   "outputs": [],
   "source": [
    "def repeatedString(s, n):\n",
    "    count = len([1 for i in s if i == 'a'])\n",
    "    howmanys = n//len(s)\n",
    "    s = s[:n%len(s)]\n",
    "    count2 = len([1 for i in s if i == 'a'])\n",
    "    return count2 + howmanys*count\n",
    "\n",
    "    "
   ]
  },
  {
   "cell_type": "code",
   "execution_count": 83,
   "metadata": {},
   "outputs": [
    {
     "data": {
      "text/plain": [
       "0"
      ]
     },
     "execution_count": 83,
     "metadata": {},
     "output_type": "execute_result"
    }
   ],
   "source": [
    "repeatedString('d', 10)"
   ]
  },
  {
   "cell_type": "code",
   "execution_count": 1,
   "metadata": {},
   "outputs": [],
   "source": [
    "def sockMerchant(n, ar):\n",
    "    socks = []\n",
    "    count = 0\n",
    "    for i in range(n):\n",
    "        if ar[i] not in socks:\n",
    "            socks.append(ar[i])\n",
    "        elif ar[i] in socks:\n",
    "            count += 1\n",
    "            socks.remove(ar[i])\n",
    "    return count"
   ]
  },
  {
   "cell_type": "code",
   "execution_count": 2,
   "metadata": {},
   "outputs": [
    {
     "data": {
      "text/plain": [
       "3"
      ]
     },
     "execution_count": 2,
     "metadata": {},
     "output_type": "execute_result"
    }
   ],
   "source": [
    "sockMerchant(9 , [10,20,20,10,10,30,50,10,20])"
   ]
  },
  {
   "cell_type": "code",
   "execution_count": null,
   "metadata": {},
   "outputs": [],
   "source": []
  }
 ],
 "metadata": {
  "kernelspec": {
   "display_name": "Python 3",
   "language": "python",
   "name": "python3"
  },
  "language_info": {
   "codemirror_mode": {
    "name": "ipython",
    "version": 3
   },
   "file_extension": ".py",
   "mimetype": "text/x-python",
   "name": "python",
   "nbconvert_exporter": "python",
   "pygments_lexer": "ipython3",
   "version": "3.7.4"
  }
 },
 "nbformat": 4,
 "nbformat_minor": 2
}
