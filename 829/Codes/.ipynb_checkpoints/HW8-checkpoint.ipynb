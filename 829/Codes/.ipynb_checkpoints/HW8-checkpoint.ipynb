{
 "cells": [
  {
   "cell_type": "markdown",
   "metadata": {},
   "source": [
    "### 1 use Merton model\n",
    "we can assume the \n",
    "equity is a long call option on V with strike F and\n",
    "debt is a short put on V and long risk free F"
   ]
  },
  {
   "cell_type": "code",
   "execution_count": 13,
   "metadata": {},
   "outputs": [],
   "source": [
    "from scipy.stats import norm\n",
    "import numpy as np\n",
    "alpha = 0.15 #(instantaneous expected asset return under the physical/objective measure)\n",
    "sigma = 0.2 #(asset volatility)\n",
    "r = 0.05# (constant, continuously np.exp(-d1**2)compounded risk-free rate)\n",
    "A0=v0 =100 #(market value of the firm’s assets today, t = 0)\n",
    "T =2 #(time to maturity for the bond)\n",
    "F =80"
   ]
  },
  {
   "cell_type": "markdown",
   "metadata": {},
   "source": [
    "### (a) set d1 and d2 and calculate the debt value D0 and Equity value E0"
   ]
  },
  {
   "cell_type": "code",
   "execution_count": 38,
   "metadata": {},
   "outputs": [
    {
     "data": {
      "text/plain": [
       "70.87977314490855"
      ]
     },
     "execution_count": 38,
     "metadata": {},
     "output_type": "execute_result"
    }
   ],
   "source": [
    "d1 = (np.log(v0/F) + (r + 0.5 * sigma ** 2) * T)/(sigma * T ** 0.5)\n",
    "d2 = d1 - sigma * T ** 0.5\n",
    "D0 = np.exp(-r * T) * F * norm.cdf(d2) + v0 * norm.cdf(-d1);D0"
   ]
  },
  {
   "cell_type": "code",
   "execution_count": 39,
   "metadata": {},
   "outputs": [
    {
     "data": {
      "text/plain": [
       "29.120226855091445"
      ]
     },
     "execution_count": 39,
     "metadata": {},
     "output_type": "execute_result"
    }
   ],
   "source": [
    "E0 = v0 * norm.cdf(d1) - np.exp(- r * T)* F * norm.cdf(d2);E0"
   ]
  },
  {
   "cell_type": "markdown",
   "metadata": {},
   "source": [
    "#### use above parameter and black schole model calculate the $D0 = 70.8797$ and $E0=29.1202$"
   ]
  },
  {
   "cell_type": "markdown",
   "metadata": {},
   "source": [
    "### (b) Calculate the vega"
   ]
  },
  {
   "cell_type": "code",
   "execution_count": 40,
   "metadata": {},
   "outputs": [
    {
     "data": {
      "text/plain": [
       "24.744357919569442"
      ]
     },
     "execution_count": 40,
     "metadata": {},
     "output_type": "execute_result"
    }
   ],
   "source": [
    "ve = v0 * norm.pdf(d1) * T **0.5;ve"
   ]
  },
  {
   "cell_type": "code",
   "execution_count": 41,
   "metadata": {
    "scrolled": false
   },
   "outputs": [
    {
     "data": {
      "text/plain": [
       "-24.744357919569442"
      ]
     },
     "execution_count": 41,
     "metadata": {},
     "output_type": "execute_result"
    }
   ],
   "source": [
    "vd = -v0 * norm.pdf(d1) * T ** 0.5 ;vd"
   ]
  },
  {
   "cell_type": "code",
   "execution_count": 42,
   "metadata": {
    "scrolled": true
   },
   "outputs": [
    {
     "data": {
      "text/plain": [
       "-1033.3131599540625"
      ]
     },
     "execution_count": 42,
     "metadata": {},
     "output_type": "execute_result"
    }
   ],
   "source": [
    "v_combine = D0 * vd + E0 * ve; v_combine"
   ]
  },
  {
   "cell_type": "markdown",
   "metadata": {},
   "source": [
    "#### take derivative and calculate the $vega = \\frac{\\delta C}{\\delta \\sigma} = \\frac{\\delta p}{\\delta \\sigma}$\n",
    "#### vega of equity = vega of call option = $24.744357919569442$\n",
    "#### vega of equity = vega of F - vega of put option = $-24.744357919569442$<br/>\n",
    "#### together the vega = $-1033.3131$<br/>\n",
    "\n",
    "#### Since the vega is negative at this point, the minize the sigma will increase the value of assets \n",
    "#### and the value of the company. Thus, it is very essential to exercise the risk management."
   ]
  },
  {
   "cell_type": "markdown",
   "metadata": {},
   "source": [
    "### 2 \n",
    "### (a) we can see the debt as \n",
    "### $D(T)$ = long call at K and short call at F and long K call binary at F\n",
    "### =$max(A - k,0) - max(A - F, 0 ) + K \\times 1_{A<F}$"
   ]
  },
  {
   "cell_type": "markdown",
   "metadata": {},
   "source": [
    "#### The bankruptcy has nothing to do with equity holders in theory, thus the cost will not affect them anymore"
   ]
  },
  {
   "cell_type": "code",
   "execution_count": 32,
   "metadata": {},
   "outputs": [
    {
     "data": {
      "text/plain": [
       "29.120226855091445"
      ]
     },
     "execution_count": 32,
     "metadata": {},
     "output_type": "execute_result"
    }
   ],
   "source": [
    "E0 = v0 * norm.cdf(d1) - np.exp(- r * T)* F * norm.cdf(d2);E0"
   ]
  },
  {
   "cell_type": "code",
   "execution_count": 43,
   "metadata": {},
   "outputs": [],
   "source": [
    "# set parameter for merton model\n",
    "k = 30\n",
    "d1_k =  (np.log(v0/k) + (r + 0.5 * sigma ** 2) * T)/(sigma * T ** 0.5)\n",
    "d2_k = d1_k - sigma * T ** 0.5\n",
    "d1_f = (np.log(v0/F) + (r + 0.5 * sigma ** 2) * T)/(sigma * T ** 0.5)\n",
    "d2_f = d1 - sigma * T ** 0.5"
   ]
  },
  {
   "cell_type": "code",
   "execution_count": 44,
   "metadata": {},
   "outputs": [],
   "source": [
    "# call at K use d1_k and d2_k\n",
    "call_k = v0 * norm.cdf(d1_k) - np.exp(- r * T)* k * norm.cdf(d2_k)\n",
    "# call at F use d1_f and d2_f\n",
    "call_f = v0 * norm.cdf(d1_f) - np.exp(- r * T)* F * norm.cdf(d2_f)\n",
    "# call binary at F use d2_f\n",
    "call_binary = k * np.exp(- r * T)* norm.cdf(d2_f)"
   ]
  },
  {
   "cell_type": "code",
   "execution_count": 45,
   "metadata": {},
   "outputs": [
    {
     "data": {
      "text/plain": [
       "66.58004523638645"
      ]
     },
     "execution_count": 45,
     "metadata": {},
     "output_type": "execute_result"
    }
   ],
   "source": [
    "D0 = call_k - call_f + call_binary;D0"
   ]
  },
  {
   "cell_type": "markdown",
   "metadata": {},
   "source": [
    "#### use above parameter and black schole model calculate the $D0 = 66.580045$ and $E0=29.1202$"
   ]
  },
  {
   "cell_type": "markdown",
   "metadata": {},
   "source": [
    "### (b)"
   ]
  },
  {
   "cell_type": "code",
   "execution_count": null,
   "metadata": {},
   "outputs": [],
   "source": [
    "# vega of call at K use d1_k and d2_k\n",
    "v_k = v0 * norm.pdf(d1_k) * T **0.5\n",
    "# vega of call at F use d1_f and d2_f\n",
    "v_f = v0 * norm.pdf(d1_f) * T **0.5\n",
    "# vega of call binary at F use d2_f\n",
    "v_binary = k * norm.pdf(d2_f) * T **0.5"
   ]
  },
  {
   "cell_type": "code",
   "execution_count": 55,
   "metadata": {},
   "outputs": [],
   "source": [
    "from sympy import *\n",
    "import numpy as np\n",
    "sigma = Symbol('x')\n",
    "\n",
    "d1_f = (np.log(v0/F) + (r + 0.5 * sigma ** 2) * T)/(sigma * T ** 0.5)\n",
    "d2_f = d1_f - sigma * T ** 0.5\n",
    "\n",
    "d2_f_prime = d2_f.diff(sigma)"
   ]
  },
  {
   "cell_type": "code",
   "execution_count": 58,
   "metadata": {},
   "outputs": [
    {
     "data": {
      "text/latex": [
       "$\\displaystyle -2.22044604925031 \\cdot 10^{-16} - \\frac{0.707106781186547 \\left(x^{2} + 0.32314355131421\\right)}{x^{2}}$"
      ],
      "text/plain": [
       "-2.22044604925031e-16 - 0.707106781186547*(x**2 + 0.32314355131421)/x**2"
      ]
     },
     "execution_count": 58,
     "metadata": {},
     "output_type": "execute_result"
    }
   ],
   "source": [
    "d2_f_prime"
   ]
  },
  {
   "cell_type": "code",
   "execution_count": null,
   "metadata": {},
   "outputs": [],
   "source": []
  }
 ],
 "metadata": {
  "kernelspec": {
   "display_name": "Python 3",
   "language": "python",
   "name": "python3"
  },
  "language_info": {
   "codemirror_mode": {
    "name": "ipython",
    "version": 3
   },
   "file_extension": ".py",
   "mimetype": "text/x-python",
   "name": "python",
   "nbconvert_exporter": "python",
   "pygments_lexer": "ipython3",
   "version": "3.7.4"
  },
  "varInspector": {
   "cols": {
    "lenName": 16,
    "lenType": 16,
    "lenVar": 40
   },
   "kernels_config": {
    "python": {
     "delete_cmd_postfix": "",
     "delete_cmd_prefix": "del ",
     "library": "var_list.py",
     "varRefreshCmd": "print(var_dic_list())"
    },
    "r": {
     "delete_cmd_postfix": ") ",
     "delete_cmd_prefix": "rm(",
     "library": "var_list.r",
     "varRefreshCmd": "cat(var_dic_list()) "
    }
   },
   "types_to_exclude": [
    "module",
    "function",
    "builtin_function_or_method",
    "instance",
    "_Feature"
   ],
   "window_display": false
  }
 },
 "nbformat": 4,
 "nbformat_minor": 2
}
