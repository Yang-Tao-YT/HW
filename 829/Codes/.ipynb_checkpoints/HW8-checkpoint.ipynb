{
 "cells": [
  {
   "cell_type": "code",
   "execution_count": 5,
   "metadata": {},
   "outputs": [],
   "source": [
    "from scipy.stats import norm\n",
    "import numpy as np\n",
    "alpha = 0.15 #(instantaneous expected asset return under the physical/objective measure)\n",
    "sigma = 0.2 #(asset volatility)\n",
    "r = 0.05# (constant, continuously compounded risk-free rate)\n",
    "A0=v0 =100 #(market value of the firm’s assets today, t = 0)\n",
    "T =2 #(time to maturity for the bond)\n",
    "F =80"
   ]
  },
  {
   "cell_type": "code",
   "execution_count": 8,
   "metadata": {},
   "outputs": [
    {
     "data": {
      "text/plain": [
       "70.87977314490855"
      ]
     },
     "execution_count": 8,
     "metadata": {},
     "output_type": "execute_result"
    }
   ],
   "source": [
    "## set d1 and d2 and calculate the D0\n",
    "d1 = (np.log(v0/F) + (r + 0.5 * sigma ** 2) * T)/(sigma * T ** 0.5)\n",
    "d2 = d1 - sigma * T ** 0.5\n",
    "D0 = np.exp(-r * T) * F * norm.cdf(d2) + v0 * norm.cdf(-d1);D0"
   ]
  },
  {
   "cell_type": "code",
   "execution_count": 11,
   "metadata": {},
   "outputs": [
    {
     "data": {
      "text/plain": [
       "29.120226855091445"
      ]
     },
     "execution_count": 11,
     "metadata": {},
     "output_type": "execute_result"
    }
   ],
   "source": [
    "E0 = v0 * norm.cdf(d1) - np.exp(- r * T)* F * norm.cdf(d2);E0"
   ]
  },
  {
   "cell_type": "markdown",
   "metadata": {},
   "source": [
    "use above parameter and black schole model calculate the $D0 = 70.8797$"
   ]
  },
  {
   "cell_type": "code",
   "execution_count": null,
   "metadata": {},
   "outputs": [],
   "source": [
    "v = "
   ]
  }
 ],
 "metadata": {
  "kernelspec": {
   "display_name": "Python 3",
   "language": "python",
   "name": "python3"
  },
  "language_info": {
   "codemirror_mode": {
    "name": "ipython",
    "version": 3
   },
   "file_extension": ".py",
   "mimetype": "text/x-python",
   "name": "python",
   "nbconvert_exporter": "python",
   "pygments_lexer": "ipython3",
   "version": "3.7.4"
  },
  "varInspector": {
   "cols": {
    "lenName": 16,
    "lenType": 16,
    "lenVar": 40
   },
   "kernels_config": {
    "python": {
     "delete_cmd_postfix": "",
     "delete_cmd_prefix": "del ",
     "library": "var_list.py",
     "varRefreshCmd": "print(var_dic_list())"
    },
    "r": {
     "delete_cmd_postfix": ") ",
     "delete_cmd_prefix": "rm(",
     "library": "var_list.r",
     "varRefreshCmd": "cat(var_dic_list()) "
    }
   },
   "types_to_exclude": [
    "module",
    "function",
    "builtin_function_or_method",
    "instance",
    "_Feature"
   ],
   "window_display": false
  }
 },
 "nbformat": 4,
 "nbformat_minor": 2
}
