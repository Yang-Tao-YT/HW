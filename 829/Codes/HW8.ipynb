{
 "cells": [
  {
   "cell_type": "markdown",
   "metadata": {},
   "source": [
    "### 1 use Merton model\n",
    "we can assume the \n",
    "equity is a long call option on V with strike F and\n",
    "debt is a short put on V and long risk free F"
   ]
  },
  {
   "cell_type": "code",
   "execution_count": 1,
   "metadata": {},
   "outputs": [],
   "source": [
    "from scipy.stats import norm\n",
    "import numpy as np\n",
    "alpha = 0.15 #(instantaneous expected asset return under the physical/objective measure)\n",
    "sigma = 0.2 #(asset volatility)\n",
    "r = 0.05# (constant, continuously np.exp(-d1**2)compounded risk-free rate)\n",
    "A0=v0 =100 #(market value of the firm’s assets today, t = 0)\n",
    "T =2 #(time to maturity for the bond)\n",
    "F =80"
   ]
  },
  {
   "cell_type": "markdown",
   "metadata": {},
   "source": [
    "### (a) set d1 and d2 and calculate the debt value D0 and Equity value E0"
   ]
  },
  {
   "cell_type": "code",
   "execution_count": 2,
   "metadata": {},
   "outputs": [
    {
     "data": {
      "text/plain": [
       "70.87977314490855"
      ]
     },
     "execution_count": 2,
     "metadata": {},
     "output_type": "execute_result"
    }
   ],
   "source": [
    "d1 = (np.log(v0/F) + (r + 0.5 * sigma ** 2) * T)/(sigma * T ** 0.5)\n",
    "d2 = d1 - sigma * T ** 0.5\n",
    "D0 = np.exp(-r * T) * F * norm.cdf(d2) + v0 * norm.cdf(-d1);D0"
   ]
  },
  {
   "cell_type": "code",
   "execution_count": 3,
   "metadata": {},
   "outputs": [
    {
     "data": {
      "text/plain": [
       "29.120226855091445"
      ]
     },
     "execution_count": 3,
     "metadata": {},
     "output_type": "execute_result"
    }
   ],
   "source": [
    "E0 = v0 * norm.cdf(d1) - np.exp(- r * T)* F * norm.cdf(d2);E0"
   ]
  },
  {
   "cell_type": "markdown",
   "metadata": {},
   "source": [
    "#### use above parameter and black schole model calculate the $D0 = 70.8797$ and $E0=29.1202$"
   ]
  },
  {
   "cell_type": "markdown",
   "metadata": {},
   "source": [
    "### (b) Calculate the vega"
   ]
  },
  {
   "cell_type": "code",
   "execution_count": 4,
   "metadata": {},
   "outputs": [
    {
     "data": {
      "text/plain": [
       "24.744357919569442"
      ]
     },
     "execution_count": 4,
     "metadata": {},
     "output_type": "execute_result"
    }
   ],
   "source": [
    "ve = v0 * norm.pdf(d1) * T **0.5;ve"
   ]
  },
  {
   "cell_type": "code",
   "execution_count": 5,
   "metadata": {
    "scrolled": false
   },
   "outputs": [
    {
     "data": {
      "text/plain": [
       "-24.744357919569442"
      ]
     },
     "execution_count": 5,
     "metadata": {},
     "output_type": "execute_result"
    }
   ],
   "source": [
    "vd = -v0 * norm.pdf(d1) * T ** 0.5 ;vd"
   ]
  },
  {
   "cell_type": "code",
   "execution_count": 6,
   "metadata": {
    "scrolled": true
   },
   "outputs": [
    {
     "data": {
      "text/plain": [
       "-1033.3131599540625"
      ]
     },
     "execution_count": 6,
     "metadata": {},
     "output_type": "execute_result"
    }
   ],
   "source": [
    "v_combine = D0 * vd + E0 * ve; v_combine"
   ]
  },
  {
   "cell_type": "markdown",
   "metadata": {},
   "source": [
    "#### take derivative and calculate the $vega = \\frac{\\delta C}{\\delta \\sigma} = \\frac{\\delta p}{\\delta \\sigma}$\n",
    "#### vega of equity = vega of call option = $24.744357919569442$\n",
    "#### vega of equity = vega of F - vega of put option = $-24.744357919569442$<br/>\n",
    "#### together the vega = $-1033.3131$<br/>\n",
    "\n",
    "#### Since the vega is negative at this point, the minize the sigma will increase the value of assets \n",
    "#### and the value of the company. Thus, it is very essential to exercise the risk management. Also, we need use assets allocation to create "
   ]
  },
  {
   "cell_type": "markdown",
   "metadata": {},
   "source": [
    "### 2 \n",
    "### (a) we can see the debt as \n",
    "#### $D(T)$ = long call at K and short call at F and long K call binary at F\n",
    "#### =$max(A - k,0) - max(A - F, 0 ) + K \\times 1_{A<F}$"
   ]
  },
  {
   "cell_type": "markdown",
   "metadata": {},
   "source": [
    "#### The bankruptcy has nothing to do with equity holders in theory, thus the cost will not affect them anymore"
   ]
  },
  {
   "cell_type": "code",
   "execution_count": 7,
   "metadata": {},
   "outputs": [
    {
     "data": {
      "text/plain": [
       "29.120226855091445"
      ]
     },
     "execution_count": 7,
     "metadata": {},
     "output_type": "execute_result"
    }
   ],
   "source": [
    "E0 = v0 * norm.cdf(d1) - np.exp(- r * T)* F * norm.cdf(d2);E0"
   ]
  },
  {
   "cell_type": "code",
   "execution_count": 8,
   "metadata": {},
   "outputs": [],
   "source": [
    "# set parameter for merton model\n",
    "k = 30\n",
    "d1_k =  (np.log(v0/k) + (r + 0.5 * sigma ** 2) * T)/(sigma * T ** 0.5)\n",
    "d2_k = d1_k - sigma * T ** 0.5\n",
    "d1_f = (np.log(v0/F) + (r + 0.5 * sigma ** 2) * T)/(sigma * T ** 0.5)\n",
    "d2_f = d1 - sigma * T ** 0.5"
   ]
  },
  {
   "cell_type": "code",
   "execution_count": 21,
   "metadata": {},
   "outputs": [
    {
     "name": "stdout",
     "output_type": "stream",
     "text": [
      "72.85488333485551\n",
      "29.120226855091445\n",
      "22.845388756622388\n"
     ]
    }
   ],
   "source": [
    "# call at K use d1_k and d2_k\n",
    "call_k = v0 * norm.cdf(d1_k) - np.exp(- r * T)* k * norm.cdf(d2_k);print(call_k)\n",
    "# call at F use d1_f and d2_f\n",
    "call_f = v0 * norm.cdf(d1_f) - np.exp(- r * T)* F * norm.cdf(d2_f);print(call_f)\n",
    "# call binary at F use d2_f\n",
    "call_binary = k * np.exp(- r * T)* norm.cdf(d2_f);print(call_binary)"
   ]
  },
  {
   "cell_type": "code",
   "execution_count": 10,
   "metadata": {},
   "outputs": [
    {
     "data": {
      "text/plain": [
       "66.58004523638645"
      ]
     },
     "execution_count": 10,
     "metadata": {},
     "output_type": "execute_result"
    }
   ],
   "source": [
    "D0 = call_k - call_f + call_binary;D0"
   ]
  },
  {
   "cell_type": "markdown",
   "metadata": {},
   "source": [
    "#### use above parameter and black schole model calculate the $D0 = 66.580045$ and $E0=29.1202$"
   ]
  },
  {
   "cell_type": "markdown",
   "metadata": {},
   "source": [
    "### (b)  Calculate the vega of the debt first"
   ]
  },
  {
   "cell_type": "markdown",
   "metadata": {},
   "source": [
    "\n",
    "since D0 =  long call at K and short call at F and long K call binary at F <br/>\n",
    "vega of the debt = vega of call at K - vega of call at F + vega of call binary at F"
   ]
  },
  {
   "cell_type": "markdown",
   "metadata": {},
   "source": [
    "### calculate the vega of call binary K * e^(-rT) * N(d2_f)"
   ]
  },
  {
   "cell_type": "code",
   "execution_count": 20,
   "metadata": {},
   "outputs": [],
   "source": [
    "from scipy.misc import derivative\n",
    "def fun(sigma):\n",
    "    d1_f = (np.log(v0/F) + (r + 0.5 * sigma ** 2) * T)/(sigma * T ** 0.5)\n",
    "    d2_f = d1_f - sigma * T ** 0.5\n",
    "    return d2_f\n",
    "d2_f_prime = derivative(fun,0.2)\n",
    "\n"
   ]
  },
  {
   "cell_type": "code",
   "execution_count": 17,
   "metadata": {},
   "outputs": [],
   "source": [
    "# vega of call at K use d1_k and d2_k\n",
    "v_k = v0 * norm.pdf(d1_k) * T **0.5\n",
    "# vega of call at F use d1_f and d2_f\n",
    "v_f = v0 * norm.pdf(d1_f) * T **0.5\n",
    "# vega of call binary at F use d2_f\n",
    "v_binary = k *np.exp(- r * T)* (norm.pdf(d2_f) * d2_f_prime)"
   ]
  },
  {
   "cell_type": "code",
   "execution_count": 14,
   "metadata": {
    "scrolled": true
   },
   "outputs": [
    {
     "data": {
      "text/plain": [
       "-27.82150455805013"
      ]
     },
     "execution_count": 14,
     "metadata": {},
     "output_type": "execute_result"
    }
   ],
   "source": [
    "vd = v_k - v_f + v_binary; vd"
   ]
  },
  {
   "cell_type": "markdown",
   "metadata": {},
   "source": [
    "#### The bankruptcy has nothing to do with equity holders in theory, thus the cost will not affect them anymore"
   ]
  },
  {
   "cell_type": "code",
   "execution_count": 15,
   "metadata": {},
   "outputs": [
    {
     "data": {
      "text/plain": [
       "24.744357919569442"
      ]
     },
     "execution_count": 15,
     "metadata": {},
     "output_type": "execute_result"
    }
   ],
   "source": [
    "ve = v0 * norm.pdf(d1) * T **0.5;ve"
   ]
  },
  {
   "cell_type": "code",
   "execution_count": 16,
   "metadata": {
    "scrolled": true
   },
   "outputs": [
    {
     "data": {
      "text/plain": [
       "-1131.795716017869"
      ]
     },
     "execution_count": 16,
     "metadata": {},
     "output_type": "execute_result"
    }
   ],
   "source": [
    "v_combine = D0 * vd + E0 * ve; v_combine"
   ]
  },
  {
   "cell_type": "markdown",
   "metadata": {},
   "source": [
    "#### Since the vega is negative at this point, the minize the sigma will increase the value of assets \n",
    "#### and the value of the company. Thus, it is very essential to exercise the risk management."
   ]
  }
 ],
 "metadata": {
  "kernelspec": {
   "display_name": "Python 3",
   "language": "python",
   "name": "python3"
  },
  "language_info": {
   "codemirror_mode": {
    "name": "ipython",
    "version": 3
   },
   "file_extension": ".py",
   "mimetype": "text/x-python",
   "name": "python",
   "nbconvert_exporter": "python",
   "pygments_lexer": "ipython3",
   "version": "3.7.4"
  },
  "varInspector": {
   "cols": {
    "lenName": 16,
    "lenType": 16,
    "lenVar": 40
   },
   "kernels_config": {
    "python": {
     "delete_cmd_postfix": "",
     "delete_cmd_prefix": "del ",
     "library": "var_list.py",
     "varRefreshCmd": "print(var_dic_list())"
    },
    "r": {
     "delete_cmd_postfix": ") ",
     "delete_cmd_prefix": "rm(",
     "library": "var_list.r",
     "varRefreshCmd": "cat(var_dic_list()) "
    }
   },
   "types_to_exclude": [
    "module",
    "function",
    "builtin_function_or_method",
    "instance",
    "_Feature"
   ],
   "window_display": false
  }
 },
 "nbformat": 4,
 "nbformat_minor": 2
}
