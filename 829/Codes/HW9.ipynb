{
 "cells": [
  {
   "cell_type": "code",
   "execution_count": 9,
   "metadata": {},
   "outputs": [],
   "source": [
    "from scipy.optimize import fsolve\n",
    "S = 80\n",
    "D = 2.5\n",
    "Discount_3 = 98/100\n",
    "Discount_6 = 95/100\n",
    "pv_d = Discount_3 * D\n",
    "\n",
    "def fun(x):\n",
    "    s = S - Discount_3* D - Discount_6 * x\n",
    "    return s\n",
    "\n",
    "fsolve(fun, 80)\n",
    "pv_f = Discount_6 *83"
   ]
  },
  {
   "cell_type": "markdown",
   "metadata": {},
   "source": [
    "```python\n",
    "from scipy.optimize import fsolve\n",
    "S = 80\n",
    "D = 2.5\n",
    "R_3 = 100/98\n",
    "R_6 = 100/95\n",
    "def fun(x):\n",
    "    s = S - 1/R_3 * D - 1/R_6 * x\n",
    "    return s\n",
    "\n",
    "fsolve(fun, 80)\n",
    "```"
   ]
  },
  {
   "cell_type": "code",
   "execution_count": 19,
   "metadata": {
    "scrolled": true
   },
   "outputs": [
    {
     "data": {
      "text/plain": [
       "array([81.85625])"
      ]
     },
     "execution_count": 19,
     "metadata": {},
     "output_type": "execute_result"
    }
   ],
   "source": [
    "D = 2.5\n",
    "Discount_6 = 97 / 100\n",
    "Discount_9 = 95.25 / 100\n",
    "Discount_1y = 93.5 / 100\n",
    "F_1y = 85\n",
    "fun = lambda x: x - Discount_9 * D - Discount_1y * F_1y\n",
    "fsolve(fun,0)"
   ]
  },
  {
   "cell_type": "markdown",
   "metadata": {},
   "source": [
    "```python\n",
    "D = 2.5\n",
    "Discount_6 = 97 / 100\n",
    "Discount_9 = 95.25 / 100\n",
    "Discount_1y = 93.5 / 100\n",
    "F_1y = 85\n",
    "fun = lambda x: x - Discount_9 * D - Discount_1y * F_1y\n",
    "fsolve(fun,0)\n",
    "```"
   ]
  },
  {
   "cell_type": "code",
   "execution_count": 20,
   "metadata": {},
   "outputs": [],
   "source": [
    "s = fsolve(fun, 0)[0]"
   ]
  },
  {
   "cell_type": "code",
   "execution_count": 23,
   "metadata": {},
   "outputs": [
    {
     "data": {
      "text/plain": [
       "84.38788659793815"
      ]
     },
     "execution_count": 23,
     "metadata": {},
     "output_type": "execute_result"
    }
   ],
   "source": [
    "fun = lambda x: s - Discount_6 * x\n",
    "fsolve(fun, 0)[0]"
   ]
  },
  {
   "cell_type": "code",
   "execution_count": 26,
   "metadata": {},
   "outputs": [
    {
     "data": {
      "text/plain": [
       "0.59375"
      ]
     },
     "execution_count": 26,
     "metadata": {},
     "output_type": "execute_result"
    }
   ],
   "source": [
    "85 *   Discount_6 - 81.85625"
   ]
  },
  {
   "cell_type": "code",
   "execution_count": null,
   "metadata": {},
   "outputs": [],
   "source": []
  }
 ],
 "metadata": {
  "kernelspec": {
   "display_name": "Python 3",
   "language": "python",
   "name": "python3"
  },
  "language_info": {
   "codemirror_mode": {
    "name": "ipython",
    "version": 3
   },
   "file_extension": ".py",
   "mimetype": "text/x-python",
   "name": "python",
   "nbconvert_exporter": "python",
   "pygments_lexer": "ipython3",
   "version": "3.7.6"
  },
  "varInspector": {
   "cols": {
    "lenName": 16,
    "lenType": 16,
    "lenVar": 40
   },
   "kernels_config": {
    "python": {
     "delete_cmd_postfix": "",
     "delete_cmd_prefix": "del ",
     "library": "var_list.py",
     "varRefreshCmd": "print(var_dic_list())"
    },
    "r": {
     "delete_cmd_postfix": ") ",
     "delete_cmd_prefix": "rm(",
     "library": "var_list.r",
     "varRefreshCmd": "cat(var_dic_list()) "
    }
   },
   "types_to_exclude": [
    "module",
    "function",
    "builtin_function_or_method",
    "instance",
    "_Feature"
   ],
   "window_display": false
  }
 },
 "nbformat": 4,
 "nbformat_minor": 4
}
